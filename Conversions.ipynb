{
 "cells": [
  {
   "cell_type": "code",
   "execution_count": 2,
   "metadata": {},
   "outputs": [
    {
     "name": "stdout",
     "output_type": "stream",
     "text": [
      "30.48\n"
     ]
    }
   ],
   "source": [
    "inches = 12\n",
    "centimeters = inches * 2.54\n",
    "print (centimeters)"
   ]
  },
  {
   "cell_type": "code",
   "execution_count": 3,
   "metadata": {},
   "outputs": [
    {
     "name": "stdout",
     "output_type": "stream",
     "text": [
      "19.200000000000003\n"
     ]
    }
   ],
   "source": [
    "miles = 12\n",
    "km = miles * 1.6\n",
    "print (km)"
   ]
  },
  {
   "cell_type": "markdown",
   "metadata": {},
   "source": []
  },
  {
   "cell_type": "code",
   "execution_count": 10,
   "metadata": {},
   "outputs": [
    {
     "ename": "SyntaxError",
     "evalue": "'return' outside function (<ipython-input-10-399c0dffa6de>, line 10)",
     "output_type": "error",
     "traceback": [
      "\u001b[1;36m  File \u001b[1;32m\"<ipython-input-10-399c0dffa6de>\"\u001b[1;36m, line \u001b[1;32m10\u001b[0m\n\u001b[1;33m    return name + \"is not overweight\"\u001b[0m\n\u001b[1;37m    ^\u001b[0m\n\u001b[1;31mSyntaxError\u001b[0m\u001b[1;31m:\u001b[0m 'return' outside function\n"
     ]
    }
   ],
   "source": [
    "name = \"Sachin\"\n",
    "height_m = 19\n",
    "weight_kg = 63\n",
    "\n",
    "def bmi_calculator(name,height_m,weight_kg):\n",
    "    bmi = weight_kg/(height_m**2)\n",
    "    print(\"bmi:  \")\n",
    "    print(\"bmi\")\n",
    "if bmi < 25:\n",
    "return name + \"is not overweight\"\n",
    "else:\n",
    "return name + \"is overweight\"\n",
    "    \n",
    "result = bmi_calculator(name,height_m,weight_kg)\n",
    "print (result)\n",
    "    \n",
    "\n",
    "    "
   ]
  },
  {
   "cell_type": "code",
   "execution_count": null,
   "metadata": {},
   "outputs": [],
   "source": []
  }
 ],
 "metadata": {
  "kernelspec": {
   "display_name": "Python 3",
   "language": "python",
   "name": "python3"
  },
  "language_info": {
   "codemirror_mode": {
    "name": "ipython",
    "version": 3
   },
   "file_extension": ".py",
   "mimetype": "text/x-python",
   "name": "python",
   "nbconvert_exporter": "python",
   "pygments_lexer": "ipython3",
   "version": "3.6.5"
  }
 },
 "nbformat": 4,
 "nbformat_minor": 2
}
